{
  "cells": [
    {
      "cell_type": "code",
      "execution_count": null,
      "metadata": {
        "id": "Gqh6-emq4F25"
      },
      "outputs": [],
      "source": [
        "import numpy as np\n",
        "import csv\n",
        "from numpy import loadtxt\n",
        "from sklearn.model_selection import train_test_split\n",
        "from sklearn.preprocessing import LabelBinarizer\n"
      ]
    },
    {
      "cell_type": "code",
      "execution_count": null,
      "metadata": {
        "id": "MmY2SvPg4i0J"
      },
      "outputs": [],
      "source": [
        "path = 'CapstoneAgHandsTrainingData.csv'\n",
        "from keras.models import Sequential\n",
        "from keras.layers import Dense\n",
        "import tensorflow as tf"
      ]
    },
    {
      "cell_type": "code",
      "execution_count": null,
      "metadata": {
        "colab": {
          "base_uri": "https://localhost:8080/"
        },
        "id": "Y1uVOCIe6MaB",
        "outputId": "c50c86b4-67ae-47b5-ebab-9a059d78a74b"
      },
      "outputs": [
        {
          "name": "stdout",
          "output_type": "stream",
          "text": [
            "[-3.64892185e-04  8.65041673e-01 -2.39167832e-08  7.70429522e-02\n",
            "  8.53903890e-01 -2.16601621e-02  1.61481366e-01  7.80207753e-01\n",
            " -2.58291494e-02  2.23874435e-01  7.06370473e-01 -2.62705851e-02\n",
            "  2.65073180e-01  6.59262598e-01 -2.60710586e-02  1.81350440e-01\n",
            "  7.09594488e-01 -1.41459005e-02  2.50110418e-01  6.64438725e-01\n",
            " -2.59353705e-02  2.85198122e-01  6.53899789e-01 -3.82892489e-02\n",
            "  3.10844600e-01  6.34108126e-01 -4.83197756e-02  1.47838145e-01\n",
            "  6.76919878e-01 -7.58573087e-03  1.99503526e-01  6.47702456e-01\n",
            " -2.01434828e-02  1.83849901e-01  6.88274205e-01 -2.73974091e-02\n",
            "  1.64306879e-01  7.15717971e-01 -3.06640696e-02  1.17306069e-01\n",
            "  6.60287082e-01 -2.88019259e-03  1.67126089e-01  6.29279792e-01\n",
            " -1.54732578e-02  1.52461231e-01  6.71338320e-01 -9.01640765e-03\n",
            "  1.36284426e-01  7.03534007e-01 -1.71150931e-03  9.26678106e-02\n",
            "  6.53549075e-01  1.81023119e-04  1.32571459e-01  6.20021880e-01\n",
            " -6.07311586e-03  1.21956877e-01  6.57139182e-01  3.55407689e-03\n",
            "  1.09315798e-01  6.88482523e-01  1.33277783e-02  0.00000000e+00]\n",
            "(64,)\n",
            "(2385, 63)\n",
            "(2385,)\n"
          ]
        }
      ],
      "source": [
        "dataset = loadtxt(path, delimiter=',')\n",
        "print(dataset[1])\n",
        "print(np.shape(dataset[1]))\n",
        "# split into input (X) and output (y) variables\n",
        "X = dataset[:,0:63]\n",
        "y = dataset[:,63]\n",
        "print(np.shape(X))\n",
        "print(np.shape(y))\n"
      ]
    },
    {
      "cell_type": "code",
      "execution_count": null,
      "metadata": {
        "colab": {
          "base_uri": "https://localhost:8080/"
        },
        "id": "FasR4w2S7yQz",
        "outputId": "defb9f6a-b765-4e7e-ebe0-293368056815"
      },
      "outputs": [
        {
          "name": "stdout",
          "output_type": "stream",
          "text": [
            "(1908, 63)\n",
            "(477, 63)\n",
            "(1908,)\n",
            "(477,)\n",
            "[0. 1. 0. ... 0. 1. 0.]\n"
          ]
        }
      ],
      "source": [
        "#Validation/training Data Split\n",
        "X_train, X_test, y_train, y_test = train_test_split(X, y, test_size=0.2, random_state=40)\n",
        "print(X_train.shape)\n",
        "print(X_test.shape)\n",
        "print(y_train.shape)\n",
        "print(y_test.shape)\n",
        "print(y_train)"
      ]
    },
    {
      "cell_type": "code",
      "execution_count": null,
      "metadata": {
        "colab": {
          "base_uri": "https://localhost:8080/"
        },
        "id": "6QbAhqEY8q-e",
        "outputId": "362e8dc8-5ad8-4789-f2cd-13f5128931e3"
      },
      "outputs": [
        {
          "name": "stdout",
          "output_type": "stream",
          "text": [
            "(1908, 3)\n",
            "(477, 3)\n"
          ]
        }
      ],
      "source": [
        "#One hot encode outputs\n",
        "y_test = LabelBinarizer().fit_transform(y_test)\n",
        "y_train = LabelBinarizer().fit_transform(y_train)\n",
        "print(y_train.shape)\n",
        "print(y_test.shape)"
      ]
    },
    {
      "cell_type": "code",
      "execution_count": null,
      "metadata": {
        "id": "Qhi0U3rRCZzV"
      },
      "outputs": [],
      "source": [
        "\n",
        "from tensorflow.keras.layers import *\n",
        "from tensorflow.keras.models import Model\n",
        "from tensorflow.keras.optimizers import *"
      ]
    },
    {
      "cell_type": "code",
      "execution_count": null,
      "metadata": {
        "colab": {
          "base_uri": "https://localhost:8080/"
        },
        "id": "7ID-I3WGA02l",
        "outputId": "e1a00827-03f9-40ed-bfb5-cad7b82a1411"
      },
      "outputs": [
        {
          "name": "stderr",
          "output_type": "stream",
          "text": [
            "/usr/local/lib/python3.7/dist-packages/keras/optimizer_v2/adam.py:105: UserWarning: The `lr` argument is deprecated, use `learning_rate` instead.\n",
            "  super(Adam, self).__init__(name, **kwargs)\n"
          ]
        },
        {
          "name": "stdout",
          "output_type": "stream",
          "text": [
            "Model: \"model\"\n",
            "_________________________________________________________________\n",
            " Layer (type)                Output Shape              Param #   \n",
            "=================================================================\n",
            " input (InputLayer)          [(None, 63)]              0         \n",
            "                                                                 \n",
            " d1 (Dense)                  (None, 63)                4032      \n",
            "                                                                 \n",
            " d2 (Dense)                  (None, 126)               8064      \n",
            "                                                                 \n",
            " d3 (Dense)                  (None, 252)               32004     \n",
            "                                                                 \n",
            " d5 (Dropout)                (None, 252)               0         \n",
            "                                                                 \n",
            " d4 (Dense)                  (None, 126)               31878     \n",
            "                                                                 \n",
            " output (Dense)              (None, 3)                 381       \n",
            "                                                                 \n",
            " s1 (Activation)             (None, 3)                 0         \n",
            "                                                                 \n",
            "=================================================================\n",
            "Total params: 76,359\n",
            "Trainable params: 76,359\n",
            "Non-trainable params: 0\n",
            "_________________________________________________________________\n"
          ]
        }
      ],
      "source": [
        "def get_model():\n",
        "    x = x_in = Input(shape=(63,), name=\"input\")\n",
        "    x = Dense(63, name=\"d1\", activation=\"relu\")(x)\n",
        "    x = Dense(126, name=\"d2\", activation=\"relu\")(x)\n",
        "    x = Dense(252, name=\"d3\", activation=\"relu\")(x)\n",
        "    x = Dropout(0.2, name=\"d5\")(x)\n",
        "    x = Dense(126, name=\"d4\", activation=\"relu\")(x)\n",
        "    \n",
        "    x = Dense(3, name=\"output\")(x)\n",
        "    x = Activation(\"softmax\", name=\"s1\")(x)\n",
        "\n",
        "    m = Model(inputs=x_in, outputs=x)\n",
        "    m.summary()\n",
        "    \n",
        "    return m\n",
        "\n",
        "adam = Adam(lr=0.01)\n",
        "\n",
        "model = get_model()\n",
        "model.compile(loss=\"binary_crossentropy\", optimizer=adam, metrics=[\"acc\"])"
      ]
    },
    {
      "cell_type": "code",
      "execution_count": null,
      "metadata": {
        "colab": {
          "base_uri": "https://localhost:8080/"
        },
        "id": "LZJRrC7nCugs",
        "outputId": "24520bd8-163e-4d5e-ec8f-535f8c37ce7a"
      },
      "outputs": [
        {
          "name": "stdout",
          "output_type": "stream",
          "text": [
            "Epoch 1/5\n",
            "60/60 [==============================] - 0s 3ms/step - loss: 0.4075 - acc: 0.7123\n",
            "Epoch 2/5\n",
            "60/60 [==============================] - 0s 3ms/step - loss: 0.2479 - acc: 0.8485\n",
            "Epoch 3/5\n",
            "60/60 [==============================] - 0s 3ms/step - loss: 0.1696 - acc: 0.9004\n",
            "Epoch 4/5\n",
            "60/60 [==============================] - 0s 3ms/step - loss: 0.1687 - acc: 0.9025\n",
            "Epoch 5/5\n",
            "60/60 [==============================] - 0s 3ms/step - loss: 0.1655 - acc: 0.9083\n"
          ]
        },
        {
          "data": {
            "text/plain": [
              "<keras.callbacks.History at 0x7ff29b166bd0>"
            ]
          },
          "execution_count": 26,
          "metadata": {},
          "output_type": "execute_result"
        }
      ],
      "source": [
        "model.fit(X_train, y_train, epochs=5)"
      ]
    },
    {
      "cell_type": "code",
      "execution_count": null,
      "metadata": {
        "colab": {
          "base_uri": "https://localhost:8080/"
        },
        "id": "YBi7x-U0EL2b",
        "outputId": "f3cc2e1b-1285-4a98-ad4c-a99374f767c6"
      },
      "outputs": [
        {
          "name": "stdout",
          "output_type": "stream",
          "text": [
            "15/15 - 0s - loss: 0.4464 - acc: 0.6855 - 157ms/epoch - 10ms/step\n",
            "\n",
            "Test accuracy: 0.6855345964431763\n"
          ]
        }
      ],
      "source": [
        "test_loss, test_acc = model.evaluate(X_test,  y_test, verbose=2)\n",
        "\n",
        "print('\\nTest accuracy:', test_acc)"
      ]
    },
    {
      "cell_type": "code",
      "execution_count": null,
      "metadata": {
        "id": "vRLQiHa8E5_0"
      },
      "outputs": [],
      "source": [
        "model.save('CapstoneAgModelV2.h5')"
      ]
    },
    {
      "cell_type": "code",
      "execution_count": null,
      "metadata": {
        "id": "LHwrMcq-GIDk"
      },
      "outputs": [],
      "source": [
        "model.load_weights('CapstoneAgModelV2.h5')"
      ]
    },
    {
      "cell_type": "code",
      "execution_count": null,
      "metadata": {
        "colab": {
          "base_uri": "https://localhost:8080/"
        },
        "id": "quC6oCXJGUsz",
        "outputId": "3560030d-d0ee-4879-da37-69e849bd9407"
      },
      "outputs": [
        {
          "name": "stdout",
          "output_type": "stream",
          "text": [
            "15/15 [==============================] - 0s 4ms/step - loss: 0.1074 - acc: 0.9455\n",
            "Restored model, accuracy: 94.55%\n"
          ]
        }
      ],
      "source": [
        "loss, acc = model.evaluate(X_test, y_test, verbose=1)\n",
        "print(\"Restored model, accuracy: {:5.2f}%\".format(100 * acc))"
      ]
    },
    {
      "cell_type": "code",
      "execution_count": null,
      "metadata": {
        "colab": {
          "background_save": true,
          "base_uri": "https://localhost:8080/"
        },
        "id": "szMVVGHsAwPn",
        "outputId": "c8699604-2eac-4ba9-a8a6-dd8c8a15f4ef"
      },
      "outputs": [
        {
          "data": {
            "text/plain": [
              "(477, 63)"
            ]
          },
          "execution_count": null,
          "metadata": {},
          "output_type": "execute_result"
        }
      ],
      "source": [
        "np.shape(X_test)"
      ]
    },
    {
      "cell_type": "code",
      "execution_count": null,
      "metadata": {
        "colab": {
          "base_uri": "https://localhost:8080/"
        },
        "id": "9mg5Md5ateR7",
        "outputId": "91adc9ec-992f-4ccc-bd01-68efda66a8aa"
      },
      "outputs": [
        {
          "name": "stdout",
          "output_type": "stream",
          "text": [
            "(477, 3)\n"
          ]
        }
      ],
      "source": [
        "from tensorflow import keras \n",
        "reconstructed_model = keras.models.load_model(\"CapstoneAgModelV2.h5\") \n",
        "print(np.shape(model.predict(X_test)))"
      ]
    },
    {
      "cell_type": "code",
      "execution_count": null,
      "metadata": {
        "colab": {
          "base_uri": "https://localhost:8080/"
        },
        "id": "3XqCTGLq6Y_S",
        "outputId": "dc58d581-37d1-47c7-d3dc-fc8dd1bcc34e"
      },
      "outputs": [
        {
          "name": "stdout",
          "output_type": "stream",
          "text": [
            "[ 9.65266705e-01  5.63700616e-01 -3.83935117e-07  9.23147440e-01\n",
            "  5.78281879e-01 -8.23608693e-03  8.84075701e-01  5.76195896e-01\n",
            " -1.29550574e-02  8.54434013e-01  5.68514824e-01 -1.78192779e-02\n",
            "  8.29347372e-01  5.65971017e-01 -2.32084636e-02  8.77182364e-01\n",
            "  5.21876633e-01 -1.43131102e-02  8.71679127e-01  5.54831028e-01\n",
            " -2.93293465e-02  8.74034762e-01  5.83457530e-01 -4.05804291e-02\n",
            "  8.77190650e-01  6.07500792e-01 -4.76681069e-02  8.98343861e-01\n",
            "  5.11421561e-01 -1.79208107e-02  8.96478772e-01  5.58504939e-01\n",
            " -3.16483900e-02  9.00571108e-01  5.93599379e-01 -4.01539095e-02\n",
            "  9.05248284e-01  6.22447729e-01 -4.66516092e-02  9.23221946e-01\n",
            "  5.07980049e-01 -2.27934215e-02  9.20908689e-01  5.54965317e-01\n",
            " -3.63235772e-02  9.22826886e-01  5.89477539e-01 -4.02321294e-02\n",
            "  9.25944626e-01  6.18509233e-01 -4.25178185e-02  9.48954582e-01\n",
            "  5.08575976e-01 -2.83125602e-02  9.46817636e-01  5.49011469e-01\n",
            " -4.02556285e-02  9.45463955e-01  5.78302801e-01 -4.31830250e-02\n",
            "  9.43926334e-01  6.01261377e-01 -4.41690907e-02]\n"
          ]
        }
      ],
      "source": [
        "np.shape(X_test)\n",
        "print(X_test[1])"
      ]
    },
    {
      "cell_type": "code",
      "execution_count": null,
      "metadata": {
        "colab": {
          "base_uri": "https://localhost:8080/"
        },
        "id": "U9eOYK0t6qnH",
        "outputId": "65255df1-3886-4282-99f8-f2faf174b19e"
      },
      "outputs": [
        {
          "data": {
            "text/plain": [
              "(63,)"
            ]
          },
          "execution_count": 31,
          "metadata": {},
          "output_type": "execute_result"
        }
      ],
      "source": [
        "np.shape(np.zeros(63))\n"
      ]
    }
  ],
  "metadata": {
    "accelerator": "GPU",
    "colab": {
      "name": "CapstoneTraining.ipynb",
      "provenance": []
    },
    "kernelspec": {
      "display_name": "Python 3",
      "name": "python3"
    },
    "language_info": {
      "name": "python"
    }
  },
  "nbformat": 4,
  "nbformat_minor": 0
}